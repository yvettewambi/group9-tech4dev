{
  "nbformat": 4,
  "nbformat_minor": 0,
  "metadata": {
    "colab": {
      "provenance": [],
      "include_colab_link": true
    },
    "kernelspec": {
      "name": "python3",
      "display_name": "Python 3"
    },
    "language_info": {
      "name": "python"
    }
  },
  "cells": [
    {
      "cell_type": "markdown",
      "metadata": {
        "id": "view-in-github",
        "colab_type": "text"
      },
      "source": [
        "<a href=\"https://colab.research.google.com/github/yvettewambi/group9-tech4dev/blob/dev/Group_9.ipynb\" target=\"_parent\"><img src=\"https://colab.research.google.com/assets/colab-badge.svg\" alt=\"Open In Colab\"/></a>"
      ]
    },
    {
      "cell_type": "markdown",
      "source": [
        "Group Members\n",
        "1. Wambi Yvette Nerima\n",
        "2. Faith Arayi\n",
        "4. Betty Igbukan\n",
        "5. Sharon Alawode\n",
        "9. Maryam Habib"
      ],
      "metadata": {
        "id": "qcRJXVOKQQ6J"
      }
    },
    {
      "cell_type": "code",
      "source": [
        "#1. Given a tuple my_tuple = (10, 20, 30, 40, 50), write a Python program to print the element at index 3.\n",
        "tuple = (10, 20, 30, 40, 50)\n",
        "\n",
        "# Access and print the element at index 3\n",
        "element_at_index_3 = tuple[3]\n",
        "print(\"Element at index 3:\", element_at_index_3)\n"
      ],
      "metadata": {
        "id": "r5xTFYAybdpu",
        "colab": {
          "base_uri": "https://localhost:8080/"
        },
        "outputId": "6d58dd3a-0963-4f44-c153-2b45af204c69"
      },
      "execution_count": null,
      "outputs": [
        {
          "output_type": "stream",
          "name": "stdout",
          "text": [
            "Element at index 3: 40\n"
          ]
        }
      ]
    },
    {
      "cell_type": "code",
      "execution_count": null,
      "metadata": {
        "id": "OH1Z9KlGNOSW",
        "colab": {
          "base_uri": "https://localhost:8080/"
        },
        "outputId": "58a7d4cb-e619-47fe-ea28-7aaea40f84ec"
      },
      "outputs": [
        {
          "output_type": "stream",
          "name": "stdout",
          "text": [
            "[3, 4, 5, 6, 7]\n"
          ]
        }
      ],
      "source": [
        "#2. Create a list my_list with elements from 1 to 10. Write a python program to print elements from index 2 to 6 (inclusive)\n",
        "my_list = list(range(1,11))\n",
        "elements = my_list[2:7]\n",
        "print(elements)"
      ]
    },
    {
      "cell_type": "code",
      "source": [
        "\"\"\" 3. Create a dictionary my_dict with keys as fruit names and values as their respective quantities.\n",
        "Write a Python program to print the quantity of the fruit 'apple'. \"\"\""
      ],
      "metadata": {
        "id": "JOGz0ymPiHzo"
      },
      "execution_count": null,
      "outputs": []
    },
    {
      "cell_type": "code",
      "source": [
        "\"\"\"4. Create two sets set1 and set2 with some common elements. Write a Python program to\n",
        "find the common elements between these two sets\"\"\"\n",
        "set1 = {4, 5, 6, 7, 8, 9}\n",
        "set2 = {8, 9, 10, 11, 12}\n",
        "common_elements = set1.intersection(set2)\n",
        "print(\"Common Elements:\", common_elements)"
      ],
      "metadata": {
        "id": "u883ySF-P-kP",
        "outputId": "2b2bd8a7-a82d-4bb3-99dc-416135914e09",
        "colab": {
          "base_uri": "https://localhost:8080/"
        }
      },
      "execution_count": null,
      "outputs": [
        {
          "output_type": "stream",
          "name": "stdout",
          "text": [
            "Common Elements: {8, 9}\n"
          ]
        }
      ]
    },
    {
      "cell_type": "code",
      "source": [
        "# 5. Given a list my_numbers = [10, 20, 30, 40, 50], write a Python program to print all elements except the first and last.\n",
        "my_numbers = [10, 20, 30, 40, 50]\n",
        "new_number = my_numbers[1:-1]\n",
        "print(new_number)\n"
      ],
      "metadata": {
        "id": "lPvT6xsbWE33",
        "colab": {
          "base_uri": "https://localhost:8080/"
        },
        "outputId": "d7f6f924-bfc0-48fb-d619-9d895d0a4e77"
      },
      "execution_count": null,
      "outputs": [
        {
          "output_type": "stream",
          "name": "stdout",
          "text": [
            "[20, 30, 40]\n"
          ]
        }
      ]
    },
    {
      "cell_type": "code",
      "source": [
        "\"\"\" 6. Given a tuple coordinates = (45, 60, 75), write a Python program to unpack the values and store them in variables x, y, and z.\n",
        "Then, print the sum of these values \"\"\"\n",
        "tuple_coordinates = (45, 60, 75)\n",
        "\n",
        "# Store values into variables x, y, and z\n",
        "x, y, z = tuple_coordinates\n",
        "print(f\"The variables are: x = {x}, y = {y}, z = {z}\")\n",
        "print (\"The coordinates value is\", (x, y, z))\n",
        "\n",
        "# Sum the values\n",
        "sum_coordinates = x + y + z\n",
        "print(\"The sum of the coordinate values is:\", sum_coordinates)\n"
      ],
      "metadata": {
        "id": "4r3MsqPgW90q",
        "colab": {
          "base_uri": "https://localhost:8080/"
        },
        "outputId": "9cda9e55-eb5b-4731-f77b-44c50325076a"
      },
      "execution_count": null,
      "outputs": [
        {
          "output_type": "stream",
          "name": "stdout",
          "text": [
            "The variables are: x = 45, y = 60, z = 75\n",
            "The coordinates value is (45, 60, 75)\n",
            "The sum of the coordinate values is: 180\n"
          ]
        }
      ]
    },
    {
      "cell_type": "code",
      "source": [
        "# 7."
      ],
      "metadata": {
        "id": "M2KEE0yBiau0"
      },
      "execution_count": null,
      "outputs": []
    },
    {
      "cell_type": "code",
      "source": [],
      "metadata": {
        "id": "S1bbTKvBibIC"
      },
      "execution_count": null,
      "outputs": []
    },
    {
      "cell_type": "code",
      "source": [
        "# 9. Given a string sentence = \"This is a sample sentence\", write a Python program to reverse the order of words in the sentence\n",
        "def reverse_words(sentence):\n",
        "    words = sentence.split()\n",
        "    reversed_sentence = ' '.join(reversed(words))\n",
        "    return reversed_sentence\n",
        "\n",
        "# Example with the given sentence\n",
        "sentence = 'This is a sample sentence'\n",
        "reversed_sentence = reverse_words(sentence)\n",
        "\n",
        "print(\"Original sentence is:\", sentence)\n",
        "print(\"Reversed sentence is:\", reversed_sentence)\n"
      ],
      "metadata": {
        "id": "_YxIbqmISC2q",
        "colab": {
          "base_uri": "https://localhost:8080/"
        },
        "outputId": "d170b81a-6a83-4951-c120-4cb5873ee8a8"
      },
      "execution_count": null,
      "outputs": [
        {
          "output_type": "stream",
          "name": "stdout",
          "text": [
            "Original sentence is: This is a sample sentence\n",
            "Reversed sentence is: sentence sample a is This\n"
          ]
        }
      ]
    }
  ]
}